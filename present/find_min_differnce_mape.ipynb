{
 "cells": [
  {
   "cell_type": "code",
   "execution_count": null,
   "metadata": {},
   "outputs": [],
   "source": [
    "import json\n",
    "\n",
    "def load_data(file_path):\n",
    "    with open(file_path, 'r') as file:\n",
    "        data = json.load(file)\n",
    "    return data\n",
    "\n",
    "def analyze_mape(data):\n",
    "    train_mape = {int(epoch): details[\"train_mape\"] for epoch, details in data.items()}\n",
    "    val_mape = {int(epoch): details[\"val_mape\"] for epoch, details in data.items()}\n",
    "    \n",
    "    # Calculate the absolute difference between train_mape and val_mape for each epoch\n",
    "    mape_difference = {epoch: abs(train_mape[epoch] - val_mape[epoch]) for epoch in train_mape}\n",
    "    \n",
    "    # Sort epochs by the minimal difference in MAPE and select the three with the smallest differences\n",
    "    sorted_diff_epochs = sorted(mape_difference.items(), key=lambda x: x[1])[:3]\n",
    "    selected_epochs = [epoch for epoch, diff in sorted_diff_epochs]\n",
    "    \n",
    "    # Collecting MAPE data for the selected epochs\n",
    "    selected_data = {epoch: {\"train_mape\": train_mape[epoch], \"val_mape\": val_mape[epoch]} for epoch in selected_epochs}\n",
    "    \n",
    "    # Filter these selected epochs to ensure they have relatively low MAPE values\n",
    "    filtered_data = {\n",
    "        epoch: details\n",
    "        for epoch, details in selected_data.items()\n",
    "        if (details[\"train_mape\"] <= min(train_mape.values()) * 1.1 and\n",
    "            details[\"val_mape\"] <= min(val_mape.values()) * 1.1)\n",
    "    }\n",
    "    \n",
    "    return filtered_data\n",
    "\n",
    "def main():\n",
    "    file_path = 'runs/wacv_2024_seed0/crop_yield/CROSS_ALL_NORM_dataset_seed0_debug/trainlog.json'\n",
    "    data = load_data(file_path)\n",
    "    result = analyze_mape(data)\n",
    "    print(\"Selected Epochs with Minimal and Similar MAPE Values:\")\n",
    "    for epoch, values in result.items():\n",
    "        print(f\"Epoch {epoch}: Train MAPE = {values['train_mape']}, Val MAPE = {values['val_mape']}\")\n",
    "\n",
    "if __name__ == \"__main__\":\n",
    "    main()\n"
   ]
  }
 ],
 "metadata": {
  "language_info": {
   "name": "python"
  }
 },
 "nbformat": 4,
 "nbformat_minor": 2
}
