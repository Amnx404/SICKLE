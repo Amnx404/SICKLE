{
 "cells": [
  {
   "cell_type": "code",
   "execution_count": 5,
   "metadata": {},
   "outputs": [
    {
     "ename": "AttributeError",
     "evalue": "'NoneType' object has no attribute 'dim'",
     "output_type": "error",
     "traceback": [
      "\u001b[0;31m---------------------------------------------------------------------------\u001b[0m",
      "\u001b[0;31mAttributeError\u001b[0m                            Traceback (most recent call last)",
      "Cell \u001b[0;32mIn[5], line 7\u001b[0m\n\u001b[1;32m      4\u001b[0m attention \u001b[38;5;241m=\u001b[39m nn\u001b[38;5;241m.\u001b[39mMultiheadAttention(\u001b[38;5;241m128\u001b[39m, \u001b[38;5;241m2\u001b[39m)\n\u001b[1;32m      6\u001b[0m nn\u001b[38;5;241m.\u001b[39minit\u001b[38;5;241m.\u001b[39mxavier_uniform_(attention\u001b[38;5;241m.\u001b[39min_proj_weight)\n\u001b[0;32m----> 7\u001b[0m \u001b[43mnn\u001b[49m\u001b[38;5;241;43m.\u001b[39;49m\u001b[43minit\u001b[49m\u001b[38;5;241;43m.\u001b[39;49m\u001b[43mxavier_uniform_\u001b[49m\u001b[43m(\u001b[49m\u001b[43mattention\u001b[49m\u001b[38;5;241;43m.\u001b[39;49m\u001b[43mq_proj_weight\u001b[49m\u001b[43m)\u001b[49m\n\u001b[1;32m      8\u001b[0m nn\u001b[38;5;241m.\u001b[39minit\u001b[38;5;241m.\u001b[39mxavier_uniform_(attention\u001b[38;5;241m.\u001b[39mk_proj_weight)\n\u001b[1;32m      9\u001b[0m nn\u001b[38;5;241m.\u001b[39minit\u001b[38;5;241m.\u001b[39mxavier_uniform_(attention\u001b[38;5;241m.\u001b[39mv_proj_weight)\n",
      "File \u001b[0;32m~/miniconda3/envs/sickle/lib/python3.9/site-packages/torch/nn/init.py:323\u001b[0m, in \u001b[0;36mxavier_uniform_\u001b[0;34m(tensor, gain)\u001b[0m\n\u001b[1;32m    303\u001b[0m \u001b[38;5;28;01mdef\u001b[39;00m \u001b[38;5;21mxavier_uniform_\u001b[39m(tensor: Tensor, gain: \u001b[38;5;28mfloat\u001b[39m \u001b[38;5;241m=\u001b[39m \u001b[38;5;241m1.\u001b[39m) \u001b[38;5;241m-\u001b[39m\u001b[38;5;241m>\u001b[39m Tensor:\n\u001b[1;32m    304\u001b[0m \u001b[38;5;250m    \u001b[39m\u001b[38;5;124mr\u001b[39m\u001b[38;5;124;03m\"\"\"Fills the input `Tensor` with values according to the method\u001b[39;00m\n\u001b[1;32m    305\u001b[0m \u001b[38;5;124;03m    described in `Understanding the difficulty of training deep feedforward\u001b[39;00m\n\u001b[1;32m    306\u001b[0m \u001b[38;5;124;03m    neural networks` - Glorot, X. & Bengio, Y. (2010), using a uniform\u001b[39;00m\n\u001b[0;32m   (...)\u001b[0m\n\u001b[1;32m    321\u001b[0m \u001b[38;5;124;03m        >>> nn.init.xavier_uniform_(w, gain=nn.init.calculate_gain('relu'))\u001b[39;00m\n\u001b[1;32m    322\u001b[0m \u001b[38;5;124;03m    \"\"\"\u001b[39;00m\n\u001b[0;32m--> 323\u001b[0m     fan_in, fan_out \u001b[38;5;241m=\u001b[39m \u001b[43m_calculate_fan_in_and_fan_out\u001b[49m\u001b[43m(\u001b[49m\u001b[43mtensor\u001b[49m\u001b[43m)\u001b[49m\n\u001b[1;32m    324\u001b[0m     std \u001b[38;5;241m=\u001b[39m gain \u001b[38;5;241m*\u001b[39m math\u001b[38;5;241m.\u001b[39msqrt(\u001b[38;5;241m2.0\u001b[39m \u001b[38;5;241m/\u001b[39m \u001b[38;5;28mfloat\u001b[39m(fan_in \u001b[38;5;241m+\u001b[39m fan_out))\n\u001b[1;32m    325\u001b[0m     a \u001b[38;5;241m=\u001b[39m math\u001b[38;5;241m.\u001b[39msqrt(\u001b[38;5;241m3.0\u001b[39m) \u001b[38;5;241m*\u001b[39m std  \u001b[38;5;66;03m# Calculate uniform bounds from standard deviation\u001b[39;00m\n",
      "File \u001b[0;32m~/miniconda3/envs/sickle/lib/python3.9/site-packages/torch/nn/init.py:285\u001b[0m, in \u001b[0;36m_calculate_fan_in_and_fan_out\u001b[0;34m(tensor)\u001b[0m\n\u001b[1;32m    284\u001b[0m \u001b[38;5;28;01mdef\u001b[39;00m \u001b[38;5;21m_calculate_fan_in_and_fan_out\u001b[39m(tensor):\n\u001b[0;32m--> 285\u001b[0m     dimensions \u001b[38;5;241m=\u001b[39m \u001b[43mtensor\u001b[49m\u001b[38;5;241;43m.\u001b[39;49m\u001b[43mdim\u001b[49m()\n\u001b[1;32m    286\u001b[0m     \u001b[38;5;28;01mif\u001b[39;00m dimensions \u001b[38;5;241m<\u001b[39m \u001b[38;5;241m2\u001b[39m:\n\u001b[1;32m    287\u001b[0m         \u001b[38;5;28;01mraise\u001b[39;00m \u001b[38;5;167;01mValueError\u001b[39;00m(\u001b[38;5;124m\"\u001b[39m\u001b[38;5;124mFan in and fan out can not be computed for tensor with fewer than 2 dimensions\u001b[39m\u001b[38;5;124m\"\u001b[39m)\n",
      "\u001b[0;31mAttributeError\u001b[0m: 'NoneType' object has no attribute 'dim'"
     ]
    }
   ],
   "source": [
    "import torch\n",
    "import torch.nn as nn\n",
    "\n",
    "attention = nn.MultiheadAttention(128, 2)\n",
    "\n",
    "# see all the layers in attention\n",
    "print(attention)"
   ]
  },
  {
   "cell_type": "code",
   "execution_count": 1,
   "metadata": {},
   "outputs": [
    {
     "name": "stderr",
     "output_type": "stream",
     "text": [
      "/home/dlpl/miniconda3/envs/sickle/lib/python3.9/site-packages/tqdm/auto.py:22: TqdmWarning: IProgress not found. Please update jupyter and ipywidgets. See https://ipywidgets.readthedocs.io/en/stable/user_install.html\n",
      "  from .autonotebook import tqdm as notebook_tqdm\n"
     ]
    },
    {
     "ename": "AttributeError",
     "evalue": "'DummyConfig' object has no attribute 'model'",
     "output_type": "error",
     "traceback": [
      "\u001b[0;31m---------------------------------------------------------------------------\u001b[0m",
      "\u001b[0;31mAttributeError\u001b[0m                            Traceback (most recent call last)",
      "Cell \u001b[0;32mIn[1], line 32\u001b[0m\n\u001b[1;32m     29\u001b[0m CFG \u001b[38;5;241m=\u001b[39m DummyConfig()\n\u001b[1;32m     31\u001b[0m \u001b[38;5;66;03m# Create an instance of the EnhancedFusionModel1\u001b[39;00m\n\u001b[0;32m---> 32\u001b[0m model \u001b[38;5;241m=\u001b[39m \u001b[43mEnhancedFusionModel1\u001b[49m\u001b[43m(\u001b[49m\u001b[43mCFG\u001b[49m\u001b[43m)\u001b[49m\n\u001b[1;32m     34\u001b[0m \u001b[38;5;66;03m# Generate dummy input data\u001b[39;00m\n\u001b[1;32m     35\u001b[0m batch_size \u001b[38;5;241m=\u001b[39m \u001b[38;5;241m4\u001b[39m\n",
      "File \u001b[0;32m~/code/SICKLE/utils/model_utils.py:815\u001b[0m, in \u001b[0;36mEnhancedFusionModel1.__init__\u001b[0;34m(self, CFG)\u001b[0m\n\u001b[1;32m    814\u001b[0m \u001b[38;5;28;01mdef\u001b[39;00m \u001b[38;5;21m__init__\u001b[39m(\u001b[38;5;28mself\u001b[39m, CFG):\n\u001b[0;32m--> 815\u001b[0m     \u001b[38;5;28;43msuper\u001b[39;49m\u001b[43m(\u001b[49m\u001b[43mEnhancedFusionModel1\u001b[49m\u001b[43m,\u001b[49m\u001b[43m \u001b[49m\u001b[38;5;28;43mself\u001b[39;49m\u001b[43m)\u001b[49m\u001b[38;5;241;43m.\u001b[39;49m\u001b[38;5;21;43m__init__\u001b[39;49m\u001b[43m(\u001b[49m\u001b[43mCFG\u001b[49m\u001b[43m)\u001b[49m\n\u001b[1;32m    816\u001b[0m     \u001b[38;5;28mself\u001b[39m\u001b[38;5;241m.\u001b[39mCFG \u001b[38;5;241m=\u001b[39m CFG\n\u001b[1;32m    817\u001b[0m     \u001b[38;5;28mself\u001b[39m\u001b[38;5;241m.\u001b[39mmodels \u001b[38;5;241m=\u001b[39m nn\u001b[38;5;241m.\u001b[39mModuleDict()\n",
      "File \u001b[0;32m~/code/SICKLE/utils/model_utils.py:11\u001b[0m, in \u001b[0;36mBuild_model.__init__\u001b[0;34m(self, CFG)\u001b[0m\n\u001b[1;32m      9\u001b[0m \u001b[38;5;28mself\u001b[39m\u001b[38;5;241m.\u001b[39mCFG \u001b[38;5;241m=\u001b[39m CFG\n\u001b[1;32m     10\u001b[0m \u001b[38;5;28mself\u001b[39m\u001b[38;5;241m.\u001b[39msat \u001b[38;5;241m=\u001b[39m \u001b[38;5;28mlist\u001b[39m(CFG\u001b[38;5;241m.\u001b[39msatellites\u001b[38;5;241m.\u001b[39mkeys())[\u001b[38;5;241m0\u001b[39m]\n\u001b[0;32m---> 11\u001b[0m \u001b[38;5;28mself\u001b[39m\u001b[38;5;241m.\u001b[39mmodel \u001b[38;5;241m=\u001b[39m \u001b[38;5;28;43mself\u001b[39;49m\u001b[38;5;241;43m.\u001b[39;49m\u001b[43mget_model\u001b[49m\u001b[43m(\u001b[49m\u001b[38;5;28;43mself\u001b[39;49m\u001b[38;5;241;43m.\u001b[39;49m\u001b[43msat\u001b[49m\u001b[43m)\u001b[49m\n",
      "File \u001b[0;32m~/code/SICKLE/utils/model_utils.py:859\u001b[0m, in \u001b[0;36mEnhancedFusionModel1.get_model\u001b[0;34m(self, satellite)\u001b[0m\n\u001b[1;32m    857\u001b[0m config \u001b[38;5;241m=\u001b[39m \u001b[38;5;28mself\u001b[39m\u001b[38;5;241m.\u001b[39mCFG\n\u001b[1;32m    858\u001b[0m input_dim \u001b[38;5;241m=\u001b[39m \u001b[38;5;28mlen\u001b[39m(config\u001b[38;5;241m.\u001b[39msatellites[satellite][\u001b[38;5;124m\"\u001b[39m\u001b[38;5;124mbands\u001b[39m\u001b[38;5;124m\"\u001b[39m])\n\u001b[0;32m--> 859\u001b[0m \u001b[38;5;28;01mif\u001b[39;00m \u001b[43mconfig\u001b[49m\u001b[38;5;241;43m.\u001b[39;49m\u001b[43mmodel\u001b[49m \u001b[38;5;241m==\u001b[39m \u001b[38;5;124m\"\u001b[39m\u001b[38;5;124mutae\u001b[39m\u001b[38;5;124m\"\u001b[39m:\n\u001b[1;32m    860\u001b[0m     model \u001b[38;5;241m=\u001b[39m utae\u001b[38;5;241m.\u001b[39mUTAE(\n\u001b[1;32m    861\u001b[0m         input_dim\u001b[38;5;241m=\u001b[39minput_dim,\n\u001b[1;32m    862\u001b[0m         encoder_widths\u001b[38;5;241m=\u001b[39mconfig\u001b[38;5;241m.\u001b[39mencoder_widths,\n\u001b[0;32m   (...)\u001b[0m\n\u001b[1;32m    876\u001b[0m         padding_mode\u001b[38;5;241m=\u001b[39mconfig\u001b[38;5;241m.\u001b[39mpadding_mode,\n\u001b[1;32m    877\u001b[0m     )\n\u001b[1;32m    878\u001b[0m \u001b[38;5;28;01melse\u001b[39;00m:\n",
      "\u001b[0;31mAttributeError\u001b[0m: 'DummyConfig' object has no attribute 'model'"
     ]
    }
   ],
   "source": [
    "import torch\n",
    "from torch.utils.data import DataLoader\n",
    "from utils.model_utils import EnhancedFusionModel1\n",
    "\n",
    "# Define a dummy configuration\n",
    "class DummyConfig:\n",
    "    def __init__(self):\n",
    "        self.satellites = {\n",
    "            'S1': {'bands': ['VV', 'VH']},\n",
    "            'S2': {'bands': ['B1', 'B2', 'B3', 'B4']},\n",
    "            'L8': {'bands': ['B1', 'B2', 'B3', 'B4', 'B5']}\n",
    "        }\n",
    "        self.encoder_widths = [64, 128, 256]\n",
    "        self.decoder_widths = [256, 128, 64]\n",
    "        self.out_conv = [32, 16]\n",
    "        self.str_conv_k = 3\n",
    "        self.str_conv_s = 1\n",
    "        self.str_conv_p = 1\n",
    "        self.agg_mode = 'att_group'\n",
    "        self.encoder_norm = 'group'\n",
    "        self.n_head = 8\n",
    "        self.d_model = 256\n",
    "        self.d_k = 4\n",
    "        self.pad_value = 0\n",
    "        self.padding_mode = 'reflect'\n",
    "        self.num_classes = 10\n",
    "\n",
    "# Create an instance of the dummy configuration\n",
    "CFG = DummyConfig()\n",
    "\n",
    "# Create an instance of the EnhancedFusionModel1\n",
    "model = EnhancedFusionModel1(CFG)\n",
    "\n",
    "# Generate dummy input data\n",
    "batch_size = 4\n",
    "data = {\n",
    "    'S1': (torch.randn(batch_size, 23, 2, 32, 32), torch.randint(0, 100, (23,))),\n",
    "    'S2': (torch.randn(batch_size, 73, 4, 32, 32), torch.randint(0, 100, (73,))),\n",
    "    'L8': (torch.randn(batch_size, 11, 5, 32, 32), torch.randint(0, 100, (11,)))\n",
    "}\n",
    "\n",
    "# Forward pass\n",
    "output = model(data)\n",
    "\n",
    "# Print the output shape\n",
    "print(\"Output shape:\", output.shape)"
   ]
  },
  {
   "cell_type": "code",
   "execution_count": 4,
   "metadata": {},
   "outputs": [],
   "source": [
    "import models.eutae as eutae\n",
    "import torch\n",
    "\"\"\"2\n",
    "2\"\"\"\n",
    "model = eutae.EnhancedUTAE(\n",
    "    input_dim=2\n",
    "            )"
   ]
  },
  {
   "cell_type": "code",
   "execution_count": null,
   "metadata": {},
   "outputs": [],
   "source": []
  }
 ],
 "metadata": {
  "kernelspec": {
   "display_name": "sickle",
   "language": "python",
   "name": "python3"
  },
  "language_info": {
   "codemirror_mode": {
    "name": "ipython",
    "version": 3
   },
   "file_extension": ".py",
   "mimetype": "text/x-python",
   "name": "python",
   "nbconvert_exporter": "python",
   "pygments_lexer": "ipython3",
   "version": "3.9.19"
  }
 },
 "nbformat": 4,
 "nbformat_minor": 2
}
