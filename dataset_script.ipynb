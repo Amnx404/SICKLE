{
 "cells": [
  {
   "cell_type": "code",
   "execution_count": 1,
   "metadata": {},
   "outputs": [
    {
     "ename": "IsADirectoryError",
     "evalue": "[Errno 21] Is a directory: 'dataset/images/L8/npy'",
     "output_type": "error",
     "traceback": [
      "\u001b[0;31m---------------------------------------------------------------------------\u001b[0m",
      "\u001b[0;31mIsADirectoryError\u001b[0m                         Traceback (most recent call last)",
      "Cell \u001b[0;32mIn[1], line 33\u001b[0m\n\u001b[1;32m     31\u001b[0m     \u001b[38;5;66;03m# Copy selected files to the target directory\u001b[39;00m\n\u001b[1;32m     32\u001b[0m     \u001b[38;5;28;01mfor\u001b[39;00m file \u001b[38;5;129;01min\u001b[39;00m selected_files:\n\u001b[0;32m---> 33\u001b[0m         \u001b[43mshutil\u001b[49m\u001b[38;5;241;43m.\u001b[39;49m\u001b[43mcopy2\u001b[49m\u001b[43m(\u001b[49m\u001b[43mos\u001b[49m\u001b[38;5;241;43m.\u001b[39;49m\u001b[43mpath\u001b[49m\u001b[38;5;241;43m.\u001b[39;49m\u001b[43mjoin\u001b[49m\u001b[43m(\u001b[49m\u001b[43msource_sat_dir\u001b[49m\u001b[43m,\u001b[49m\u001b[43m \u001b[49m\u001b[43mfile\u001b[49m\u001b[43m)\u001b[49m\u001b[43m,\u001b[49m\u001b[43m \u001b[49m\u001b[43mos\u001b[49m\u001b[38;5;241;43m.\u001b[39;49m\u001b[43mpath\u001b[49m\u001b[38;5;241;43m.\u001b[39;49m\u001b[43mjoin\u001b[49m\u001b[43m(\u001b[49m\u001b[43mtarget_sat_dir\u001b[49m\u001b[43m,\u001b[49m\u001b[43m \u001b[49m\u001b[43mfile\u001b[49m\u001b[43m)\u001b[49m\u001b[43m)\u001b[49m\n\u001b[1;32m     35\u001b[0m \u001b[38;5;28mprint\u001b[39m(\u001b[38;5;124m\"\u001b[39m\u001b[38;5;124mDataset copying complete!\u001b[39m\u001b[38;5;124m\"\u001b[39m)\n",
      "File \u001b[0;32m~/miniconda3/envs/sickle/lib/python3.9/shutil.py:444\u001b[0m, in \u001b[0;36mcopy2\u001b[0;34m(src, dst, follow_symlinks)\u001b[0m\n\u001b[1;32m    442\u001b[0m \u001b[38;5;28;01mif\u001b[39;00m os\u001b[38;5;241m.\u001b[39mpath\u001b[38;5;241m.\u001b[39misdir(dst):\n\u001b[1;32m    443\u001b[0m     dst \u001b[38;5;241m=\u001b[39m os\u001b[38;5;241m.\u001b[39mpath\u001b[38;5;241m.\u001b[39mjoin(dst, os\u001b[38;5;241m.\u001b[39mpath\u001b[38;5;241m.\u001b[39mbasename(src))\n\u001b[0;32m--> 444\u001b[0m \u001b[43mcopyfile\u001b[49m\u001b[43m(\u001b[49m\u001b[43msrc\u001b[49m\u001b[43m,\u001b[49m\u001b[43m \u001b[49m\u001b[43mdst\u001b[49m\u001b[43m,\u001b[49m\u001b[43m \u001b[49m\u001b[43mfollow_symlinks\u001b[49m\u001b[38;5;241;43m=\u001b[39;49m\u001b[43mfollow_symlinks\u001b[49m\u001b[43m)\u001b[49m\n\u001b[1;32m    445\u001b[0m copystat(src, dst, follow_symlinks\u001b[38;5;241m=\u001b[39mfollow_symlinks)\n\u001b[1;32m    446\u001b[0m \u001b[38;5;28;01mreturn\u001b[39;00m dst\n",
      "File \u001b[0;32m~/miniconda3/envs/sickle/lib/python3.9/shutil.py:264\u001b[0m, in \u001b[0;36mcopyfile\u001b[0;34m(src, dst, follow_symlinks)\u001b[0m\n\u001b[1;32m    262\u001b[0m     os\u001b[38;5;241m.\u001b[39msymlink(os\u001b[38;5;241m.\u001b[39mreadlink(src), dst)\n\u001b[1;32m    263\u001b[0m \u001b[38;5;28;01melse\u001b[39;00m:\n\u001b[0;32m--> 264\u001b[0m     \u001b[38;5;28;01mwith\u001b[39;00m \u001b[38;5;28;43mopen\u001b[39;49m\u001b[43m(\u001b[49m\u001b[43msrc\u001b[49m\u001b[43m,\u001b[49m\u001b[43m \u001b[49m\u001b[38;5;124;43m'\u001b[39;49m\u001b[38;5;124;43mrb\u001b[39;49m\u001b[38;5;124;43m'\u001b[39;49m\u001b[43m)\u001b[49m \u001b[38;5;28;01mas\u001b[39;00m fsrc:\n\u001b[1;32m    265\u001b[0m         \u001b[38;5;28;01mtry\u001b[39;00m:\n\u001b[1;32m    266\u001b[0m             \u001b[38;5;28;01mwith\u001b[39;00m \u001b[38;5;28mopen\u001b[39m(dst, \u001b[38;5;124m'\u001b[39m\u001b[38;5;124mwb\u001b[39m\u001b[38;5;124m'\u001b[39m) \u001b[38;5;28;01mas\u001b[39;00m fdst:\n\u001b[1;32m    267\u001b[0m                 \u001b[38;5;66;03m# macOS\u001b[39;00m\n",
      "\u001b[0;31mIsADirectoryError\u001b[0m: [Errno 21] Is a directory: 'dataset/images/L8/npy'"
     ]
    }
   ],
   "source": [
    "import os\n",
    "import shutil\n",
    "import numpy as np\n",
    "import random\n",
    "\n",
    "source_path = 'dataset'\n",
    "destination_path = 'changed_dataset'\n",
    "\n",
    "def create_structure():\n",
    "    if not os.path.exists(destination_path):\n",
    "        os.makedirs(destination_path)\n",
    "    if not os.path.exists(os.path.join(destination_path, 'images')):\n",
    "        os.makedirs(os.path.join(destination_path, 'images'))\n",
    "    if not os.path.exists(os.path.join(destination_path, 'masks')):\n",
    "        shutil.copytree(os.path.join(source_path, 'masks'), os.path.join(destination_path, 'masks'))\n",
    "\n",
    "def process_npy_tif(satellite):\n",
    "    satellite_path = os.path.join(source_path, 'images', satellite)\n",
    "    dest_sat_path = os.path.join(destination_path, 'images', satellite)\n",
    "    \n",
    "    for data_type in ['npy', 'tif']:\n",
    "        data_path = os.path.join(satellite_path, data_type)\n",
    "        dest_data_path = os.path.join(dest_sat_path, data_type)\n",
    "        \n",
    "        if not os.path.exists(dest_data_path):\n",
    "            os.makedirs(dest_data_path)\n",
    "        \n",
    "        for folder in os.listdir(data_path):\n",
    "            folder_path = os.path.join(data_path, folder)\n",
    "            dest_folder_path = os.path.join(dest_data_path, folder)\n",
    "            \n",
    "            if data_type == 'npy':\n",
    "                npz_files = os.listdir(folder_path)\n",
    "                selected_files = random.sample(npz_files, len(npz_files) // 2)\n",
    "                os.makedirs(dest_folder_path)\n",
    "                for file in selected_files:\n",
    "                    shutil.copy2(os.path.join(folder_path, file), dest_folder_path)\n",
    "            else:\n",
    "                # 'tif' processing based on remaining 'npy' selection\n",
    "                corresponding_npy_path = os.path.join(dest_sat_path, 'npy', folder)\n",
    "                if os.path.exists(corresponding_npy_path):\n",
    "                    selected_folders = [f[:-4] for f in os.listdir(corresponding_npy_path)]  # assuming the names match minus .npz\n",
    "                    os.makedirs(dest_folder_path)\n",
    "                    for subfolder in selected_folders:\n",
    "                        subfolder_path = os.path.join(folder_path, subfolder)\n",
    "                        dest_subfolder_path = os.path.join(dest_folder_path, subfolder)\n",
    "                        if os.path.exists(subfolder_path):\n",
    "                            shutil.copytree(subfolder_path, dest_subfolder_path)\n",
    "\n",
    "create_structure()\n",
    "for satellite in ['L8', 'S2']:\n",
    "    process_npy_tif(satellite)"
   ]
  }
 ],
 "metadata": {
  "kernelspec": {
   "display_name": "sickle",
   "language": "python",
   "name": "python3"
  },
  "language_info": {
   "codemirror_mode": {
    "name": "ipython",
    "version": 3
   },
   "file_extension": ".py",
   "mimetype": "text/x-python",
   "name": "python",
   "nbconvert_exporter": "python",
   "pygments_lexer": "ipython3",
   "version": "3.9.19"
  }
 },
 "nbformat": 4,
 "nbformat_minor": 2
}
