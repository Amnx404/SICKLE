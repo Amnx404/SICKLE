{
 "cells": [
  {
   "cell_type": "code",
   "execution_count": 1,
   "metadata": {},
   "outputs": [
    {
     "name": "stdout",
     "output_type": "stream",
     "text": [
      "Process completed. The 'to_send.zip' file has been created.\n"
     ]
    }
   ],
   "source": [
    "#copy directory structure inside runs;\n",
    "# instead of copying all files inside every directory only keep the best checkpoint\n",
    "# create a new directory to_send with the above structure and files\n",
    "# zip the to_send directory\n",
    "# send the zip file to the email address\n",
    "\n",
    "import os\n",
    "import shutil\n",
    "import zipfile\n",
    "\n",
    "# Define source and destination directories\n",
    "source_dir = 'runs'\n",
    "dest_dir = 'to_send5'\n",
    "\n",
    "# Create the destination directory\n",
    "os.makedirs(dest_dir, exist_ok=True)\n",
    "\n",
    "# Walk through the source directory\n",
    "for root, dirs, files in os.walk(source_dir):\n",
    "    # Create corresponding directory in destination\n",
    "    rel_path = os.path.relpath(root, source_dir)\n",
    "    dest_path = os.path.join(dest_dir, rel_path)\n",
    "    os.makedirs(dest_path, exist_ok=True)\n",
    "    \n",
    "    # Find and copy the best checkpoint\n",
    "    checkpoint = [f for f in files if f == 'checkpoint_best.pth.tar']\n",
    "    if checkpoint:\n",
    "        shutil.copy2(os.path.join(root, checkpoint[0]), os.path.join(dest_path, checkpoint[0]))\n",
    "\n",
    "    # If no checkpoint_best.pth.tar is found, look for checkpoint_41.pth.tar\n",
    "    # if not checkpoint:\n",
    "    #     checkpoint = [f for f in files if f == 'checkpoint_41.pth.tar']\n",
    "    #     if checkpoint:\n",
    "    #         shutil.copy2(os.path.join(root, checkpoint[0]), os.path.join(dest_path, checkpoint[0]))\n",
    "\n",
    "# Zip the to_send directory\n",
    "zip_filename = 'to_send.zip'\n",
    "with zipfile.ZipFile(zip_filename, 'w', zipfile.ZIP_DEFLATED) as zipf:\n",
    "    for root, _, files in os.walk(dest_dir):\n",
    "        for file in files:\n",
    "            zipf.write(os.path.join(root, file), \n",
    "                       os.path.relpath(os.path.join(root, file), dest_dir))\n",
    "\n",
    "print(\"Process completed. The 'to_send.zip' file has been created.\")\n",
    "\n"
   ]
  },
  {
   "cell_type": "code",
   "execution_count": null,
   "metadata": {},
   "outputs": [],
   "source": []
  }
 ],
 "metadata": {
  "kernelspec": {
   "display_name": "sickle",
   "language": "python",
   "name": "python3"
  },
  "language_info": {
   "codemirror_mode": {
    "name": "ipython",
    "version": 3
   },
   "file_extension": ".py",
   "mimetype": "text/x-python",
   "name": "python",
   "nbconvert_exporter": "python",
   "pygments_lexer": "ipython3",
   "version": "3.9.19"
  }
 },
 "nbformat": 4,
 "nbformat_minor": 2
}
