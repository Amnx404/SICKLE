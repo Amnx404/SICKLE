{
  "nbformat": 4,
  "nbformat_minor": 0,
  "metadata": {
    "colab": {
      "provenance": []
    },
    "kernelspec": {
      "name": "python3",
      "display_name": "Python 3"
    },
    "language_info": {
      "name": "python"
    }
  },
  "cells": [
    {
      "cell_type": "markdown",
      "source": [
        "###Checking if the tif file is georeferenced"
      ],
      "metadata": {
        "id": "ziDTYraCKZ7d"
      }
    },
    {
      "cell_type": "code",
      "execution_count": null,
      "metadata": {
        "colab": {
          "base_uri": "https://localhost:8080/"
        },
        "id": "ts0P71yCVfU3",
        "outputId": "77daffa4-9996-420b-cd55-60103703a918"
      },
      "outputs": [
        {
          "output_type": "execute_result",
          "data": {
            "text/plain": [
              "(True, (289117.42217208975, 10.0, 0.0, 1203429.3634655103, 0.0, -10.0))"
            ]
          },
          "metadata": {},
          "execution_count": 26
        }
      ],
      "source": [
        "from osgeo import gdal\n",
        "\n",
        "# Open the uploaded file to check if it is georeferenced\n",
        "dataset = gdal.Open(\"51.tif\")\n",
        "\n",
        "# Function to check if the file is georeferenced\n",
        "def is_georeferenced(dataset):\n",
        "    geotransform = dataset.GetGeoTransform()\n",
        "    if geotransform and geotransform != (0,1,0,0,0,1):\n",
        "        return True, geotransform\n",
        "    else:\n",
        "        return False, None\n",
        "\n",
        "# Check if the uploaded file is georeferenced\n",
        "georeferenced, geotransform = is_georeferenced(dataset)\n",
        "\n",
        "georeferenced, geotransform\n"
      ]
    },
    {
      "cell_type": "markdown",
      "source": [
        "###Checking masking"
      ],
      "metadata": {
        "id": "Fc10wP97KRc1"
      }
    },
    {
      "cell_type": "code",
      "source": [
        "band = dataset.GetRasterBand(1)\n",
        "#GetRasterBand\n",
        "import matplotlib.pyplot as plt\n",
        "\n",
        "# Read the data into numpy array\n",
        "raster_data = band.ReadAsArray()\n",
        "print(raster_data)\n",
        "# Plotting the data using matplotlib\n",
        "plt.figure(figsize=(10, 10))\n",
        "plt.imshow(raster_data, cmap='gray')  # Change cmap as needed\n",
        "plt.colorbar()\n",
        "plt.title(\"Georeferenced Image Display\")\n",
        "plt.show()"
      ],
      "metadata": {
        "colab": {
          "base_uri": "https://localhost:8080/",
          "height": 1000
        },
        "id": "98LkxJr5Vyn2",
        "outputId": "0d797265-c603-45a2-b135-c415dc932bf9"
      },
      "execution_count": null,
      "outputs": [
        {
          "output_type": "stream",
          "name": "stdout",
          "text": [
            "[[0. 0. 0. 0. 0. 0. 0. 0. 0. 0. 0. 0.]\n",
            " [0. 0. 0. 0. 0. 0. 0. 0. 0. 0. 0. 0.]\n",
            " [0. 0. 0. 0. 0. 0. 0. 0. 0. 0. 0. 0.]\n",
            " [0. 0. 0. 0. 0. 0. 0. 0. 0. 0. 0. 0.]\n",
            " [0. 0. 0. 0. 0. 0. 0. 0. 0. 0. 0. 0.]\n",
            " [0. 0. 0. 0. 0. 0. 0. 0. 0. 0. 0. 0.]\n",
            " [3. 3. 3. 3. 3. 0. 0. 0. 0. 0. 0. 0.]\n",
            " [3. 3. 3. 3. 3. 3. 0. 0. 0. 0. 0. 0.]\n",
            " [0. 0. 0. 0. 0. 0. 0. 0. 4. 0. 0. 0.]\n",
            " [0. 0. 0. 0. 0. 0. 0. 0. 0. 0. 0. 0.]\n",
            " [0. 0. 0. 0. 0. 0. 0. 0. 0. 0. 0. 0.]\n",
            " [0. 0. 0. 0. 0. 0. 0. 0. 0. 0. 0. 0.]]\n"
          ]
        },
        {
          "output_type": "display_data",
          "data": {
            "text/plain": [
              "<Figure size 1000x1000 with 2 Axes>"
            ],
            "image/png": "[encoded data removed]"
          },
          "metadata": {}
        }
      ]
    },
    {
      "cell_type": "code",
      "source": [
        "pip install folium\n"
      ],
      "metadata": {
        "colab": {
          "base_uri": "https://localhost:8080/"
        },
        "id": "FXHqjQ95Ybq9",
        "outputId": "77a8cbc1-65c9-4709-c811-0c136de9f9d5"
      },
      "execution_count": null,
      "outputs": [
        {
          "output_type": "stream",
          "name": "stdout",
          "text": [
            "Requirement already satisfied: folium in /usr/local/lib/python3.10/dist-packages (0.14.0)\n",
            "Requirement already satisfied: branca>=0.6.0 in /usr/local/lib/python3.10/dist-packages (from folium) (0.7.1)\n",
            "Requirement already satisfied: jinja2>=2.9 in /usr/local/lib/python3.10/dist-packages (from folium) (3.1.3)\n",
            "Requirement already satisfied: numpy in /usr/local/lib/python3.10/dist-packages (from folium) (1.25.2)\n",
            "Requirement already satisfied: requests in /usr/local/lib/python3.10/dist-packages (from folium) (2.31.0)\n",
            "Requirement already satisfied: MarkupSafe>=2.0 in /usr/local/lib/python3.10/dist-packages (from jinja2>=2.9->folium) (2.1.5)\n",
            "Requirement already satisfied: charset-normalizer<4,>=2 in /usr/local/lib/python3.10/dist-packages (from requests->folium) (3.3.2)\n",
            "Requirement already satisfied: idna<4,>=2.5 in /usr/local/lib/python3.10/dist-packages (from requests->folium) (3.6)\n",
            "Requirement already satisfied: urllib3<3,>=1.21.1 in /usr/local/lib/python3.10/dist-packages (from requests->folium) (2.0.7)\n",
            "Requirement already satisfied: certifi>=2017.4.17 in /usr/local/lib/python3.10/dist-packages (from requests->folium) (2024.2.2)\n"
          ]
        }
      ]
    },
    {
      "cell_type": "markdown",
      "source": [
        "###Plotting location of tiff files\n"
      ],
      "metadata": {
        "id": "KW5jAVItKrAk"
      }
    },
    {
      "cell_type": "code",
      "source": [
        "from osgeo import gdal\n",
        "from pyproj import Proj, transform\n",
        "import folium\n",
        "\n",
        "# Define the paths to your TIFF files\n",
        "tiff_files = [\"67.tif\", \"44.tif\"]\n",
        "\n",
        "# Define the original and target CRS\n",
        "original_crs = Proj(init='epsg:32644')\n",
        "target_crs = Proj(init='epsg:4326')  # WGS 84\n",
        "\n",
        "# Function to convert coordinates\n",
        "def convert_coords(x, y, geotransform, original_crs, target_crs):\n",
        "    geo_x = geotransform[0] + geotransform[1] * x + geotransform[2] * y\n",
        "    geo_y = geotransform[3] + geotransform[4] * x + geotransform[5] * y\n",
        "    lon, lat = transform(original_crs, target_crs, geo_x, geo_y)\n",
        "    return lon, lat\n",
        "\n",
        "# Initialize a list to hold corner coordinates for all files\n",
        "all_converted_corners = []\n",
        "\n",
        "# Process each TIFF file\n",
        "for tiff_path in tiff_files:\n",
        "    dataset = gdal.Open(tiff_path)\n",
        "    geotransform = dataset.GetGeoTransform()\n",
        "    width = dataset.RasterXSize\n",
        "    height = dataset.RasterYSize\n",
        "\n",
        "    # Corners of the image in pixel coordinates\n",
        "    corners = [\n",
        "        (0, 0),  # Top left\n",
        "        (width, 0),  # Top right\n",
        "        (0, height),  # Bottom left\n",
        "        (width, height)  # Bottom right\n",
        "    ]\n",
        "\n",
        "    # Convert corners and store\n",
        "    converted_corners = [convert_coords(x, y, geotransform, original_crs, target_crs) for x, y in corners]\n",
        "    all_converted_corners.extend(converted_corners)\n",
        "\n",
        "# Calculate the map center from all corners\n",
        "center_lon = sum(lon for lon, lat in all_converted_corners) / len(all_converted_corners)\n",
        "center_lat = sum(lat for lon, lat in all_converted_corners) / len(all_converted_corners)\n",
        "\n",
        "# Create a map centered around the calculated center\n",
        "m = folium.Map(location=[center_lat, center_lon], zoom_start=10)\n",
        "\n",
        "# Add markers for the corners of each TIFF file\n",
        "for lon, lat in all_converted_corners:\n",
        "    folium.Marker([lat, lon]).add_to(m)\n",
        "\n",
        "# Save the map to an HTML file\n",
        "m\n"
      ],
      "metadata": {
        "colab": {
          "base_uri": "https://localhost:8080/",
          "height": 1000
        },
        "id": "mKAzVsRfcBSi",
        "outputId": "4b0dd9f4-c8ab-4cde-b292-15b7c9db941f"
      },
      "execution_count": null,
      "outputs": [
        {
          "output_type": "stream",
          "name": "stderr",
          "text": [
            "/usr/local/lib/python3.10/dist-packages/pyproj/crs/crs.py:141: FutureWarning: '+init=<authority>:<code>' syntax is deprecated. '<authority>:<code>' is the preferred initialization method. When making the change, be mindful of axis order changes: https://pyproj4.github.io/pyproj/stable/gotchas.html#axis-order-changes-in-proj-6\n",
            "  in_crs_string = _prepare_from_proj_string(in_crs_string)\n",
            "/usr/local/lib/python3.10/dist-packages/pyproj/crs/crs.py:141: FutureWarning: '+init=<authority>:<code>' syntax is deprecated. '<authority>:<code>' is the preferred initialization method. When making the change, be mindful of axis order changes: https://pyproj4.github.io/pyproj/stable/gotchas.html#axis-order-changes-in-proj-6\n",
            "  in_crs_string = _prepare_from_proj_string(in_crs_string)\n",
            "<ipython-input-20-e2ab4a2a3995>:16: FutureWarning: This function is deprecated. See: https://pyproj4.github.io/pyproj/stable/gotchas.html#upgrading-to-pyproj-2-from-pyproj-1\n",
            "  lon, lat = transform(original_crs, target_crs, geo_x, geo_y)\n"
          ]
        },
        {
          "output_type": "execute_result",
          "data": {
            "text/plain": [
              "<folium.folium.Map at 0x7a98a8fb5210>"
            ],
            "text/html": [
              "<div style=\"width:100%;\"><div style=\"position:relative;width:100%;height:0;padding-bottom:60%;\"><span style=\"color:#565656\">Make this Notebook Trusted to load map: File -> Trust Notebook</span><iframe srcdoc=\"&lt;!DOCTYPE html&gt;\n",
              "&lt;html&gt;\n",
              "&lt;head&gt;\n",
              "    \n",
              "    &lt;meta http-equiv=&quot;content-type&quot; content=&quot;text/html; charset=UTF-8&quot; /&gt;\n",
              "    \n",
              "        &lt;script&gt;\n",
              "            L_NO_TOUCH = false;\n",
              "            L_DISABLE_3D = false;\n",
              "        &lt;/script&gt;\n",
              "    \n",
              "    &lt;style&gt;html, body {width: 100%;height: 100%;margin: 0;padding: 0;}&lt;/style&gt;\n",
              "    &lt;style&gt;#map {position:absolute;top:0;bottom:0;right:0;left:0;}&lt;/style&gt;\n",
              "    &lt;script src=&quot;https://cdn.jsdelivr.net/npm/leaflet@1.9.3/dist/leaflet.js&quot;&gt;&lt;/script&gt;\n",
              "    &lt;script src=&quot;https://code.jquery.com/jquery-1.12.4.min.js&quot;&gt;&lt;/script&gt;\n",
              "    &lt;script src=&quot;https://cdn.jsdelivr.net/npm/bootstrap@5.2.2/dist/js/bootstrap.bundle.min.js&quot;&gt;&lt;/script&gt;\n",
              "    &lt;script src=&quot;https://cdnjs.cloudflare.com/ajax/libs/Leaflet.awesome-markers/2.0.2/leaflet.awesome-markers.js&quot;&gt;&lt;/script&gt;\n",
              "    &lt;link rel=&quot;stylesheet&quot; href=&quot;https://cdn.jsdelivr.net/npm/leaflet@1.9.3/dist/leaflet.css&quot;/&gt;\n",
              "    &lt;link rel=&quot;stylesheet&quot; href=&quot;https://cdn.jsdelivr.net/npm/bootstrap@5.2.2/dist/css/bootstrap.min.css&quot;/&gt;\n",
              "    &lt;link rel=&quot;stylesheet&quot; href=&quot;https://netdna.bootstrapcdn.com/bootstrap/3.0.0/css/bootstrap.min.css&quot;/&gt;\n",
              "    &lt;link rel=&quot;stylesheet&quot; href=&quot;https://cdn.jsdelivr.net/npm/@fortawesome/fontawesome-free@6.2.0/css/all.min.css&quot;/&gt;\n",
              "    &lt;link rel=&quot;stylesheet&quot; href=&quot;https://cdnjs.cloudflare.com/ajax/libs/Leaflet.awesome-markers/2.0.2/leaflet.awesome-markers.css&quot;/&gt;\n",
              "    &lt;link rel=&quot;stylesheet&quot; href=&quot;https://cdn.jsdelivr.net/gh/python-visualization/folium/folium/templates/leaflet.awesome.rotate.min.css&quot;/&gt;\n",
              "    \n",
              "            &lt;meta name=&quot;viewport&quot; content=&quot;width=device-width,\n",
              "                initial-scale=1.0, maximum-scale=1.0, user-scalable=no&quot; /&gt;\n",
              "            &lt;style&gt;\n",
              "                #map_3fe1bd15e426bc78a8d5da4801ad4dc4 {\n",
              "                    position: relative;\n",
              "                    width: 100.0%;\n",
              "                    height: 100.0%;\n",
              "                    left: 0.0%;\n",
              "                    top: 0.0%;\n",
              "                }\n",
              "                .leaflet-container { font-size: 1rem; }\n",
              "            &lt;/style&gt;\n",
              "        \n",
              "&lt;/head&gt;\n",
              "&lt;body&gt;\n",
              "    \n",
              "    \n",
              "            &lt;div class=&quot;folium-map&quot; id=&quot;map_3fe1bd15e426bc78a8d5da4801ad4dc4&quot; &gt;&lt;/div&gt;\n",
              "        \n",
              "&lt;/body&gt;\n",
              "&lt;script&gt;\n",
              "    \n",
              "    \n",
              "            var map_3fe1bd15e426bc78a8d5da4801ad4dc4 = L.map(\n",
              "                &quot;map_3fe1bd15e426bc78a8d5da4801ad4dc4&quot;,\n",
              "                {\n",
              "                    center: [10.879349475627196, 79.07150154972327],\n",
              "                    crs: L.CRS.EPSG3857,\n",
              "                    zoom: 10,\n",
              "                    zoomControl: true,\n",
              "                    preferCanvas: false,\n",
              "                }\n",
              "            );\n",
              "\n",
              "            \n",
              "\n",
              "        \n",
              "    \n",
              "            var tile_layer_fe97a8dbacf362aae4ddaae36562851e = L.tileLayer(\n",
              "                &quot;https://{s}.tile.openstreetmap.org/{z}/{x}/{y}.png&quot;,\n",
              "                {&quot;attribution&quot;: &quot;Data by \\u0026copy; \\u003ca target=\\&quot;_blank\\&quot; href=\\&quot;http://openstreetmap.org\\&quot;\\u003eOpenStreetMap\\u003c/a\\u003e, under \\u003ca target=\\&quot;_blank\\&quot; href=\\&quot;http://www.openstreetmap.org/copyright\\&quot;\\u003eODbL\\u003c/a\\u003e.&quot;, &quot;detectRetina&quot;: false, &quot;maxNativeZoom&quot;: 18, &quot;maxZoom&quot;: 18, &quot;minZoom&quot;: 0, &quot;noWrap&quot;: false, &quot;opacity&quot;: 1, &quot;subdomains&quot;: &quot;abc&quot;, &quot;tms&quot;: false}\n",
              "            ).addTo(map_3fe1bd15e426bc78a8d5da4801ad4dc4);\n",
              "        \n",
              "    \n",
              "            var marker_920b3633e7eea52a9f6290f6e9320f91 = L.marker(\n",
              "                [10.879295896119418, 79.07117978848564],\n",
              "                {}\n",
              "            ).addTo(map_3fe1bd15e426bc78a8d5da4801ad4dc4);\n",
              "        \n",
              "    \n",
              "            var marker_3386a07c13b8212d9cc98a521ad61137 = L.marker(\n",
              "                [10.879302788608776, 79.07227717860283],\n",
              "                {}\n",
              "            ).addTo(map_3fe1bd15e426bc78a8d5da4801ad4dc4);\n",
              "        \n",
              "    \n",
              "            var marker_9750e074d7510d8d7988dd9c5ef8cd90 = L.marker(\n",
              "                [10.87830161475616, 79.0711861821956],\n",
              "                {}\n",
              "            ).addTo(map_3fe1bd15e426bc78a8d5da4801ad4dc4);\n",
              "        \n",
              "    \n",
              "            var marker_11c8a37f270ee5067580dc35cbdb67ee = L.marker(\n",
              "                [10.878308506600794, 79.07228356868062],\n",
              "                {}\n",
              "            ).addTo(map_3fe1bd15e426bc78a8d5da4801ad4dc4);\n",
              "        \n",
              "    \n",
              "            var marker_22497c4178c4fccd9d1eeb29d3ba3a1b = L.marker(\n",
              "                [10.880435637587833, 79.07071923528301],\n",
              "                {}\n",
              "            ).addTo(map_3fe1bd15e426bc78a8d5da4801ad4dc4);\n",
              "        \n",
              "    \n",
              "            var marker_386a2d0a05d3c39515716b1ff6f0c5c1 = L.marker(\n",
              "                [10.880442532435824, 79.07181662927006],\n",
              "                {}\n",
              "            ).addTo(map_3fe1bd15e426bc78a8d5da4801ad4dc4);\n",
              "        \n",
              "    \n",
              "            var marker_f6f0779dffb2e5763d05587922209a2f = L.marker(\n",
              "                [10.879350967382136, 79.07072621262203],\n",
              "                {}\n",
              "            ).addTo(map_3fe1bd15e426bc78a8d5da4801ad4dc4);\n",
              "        \n",
              "    \n",
              "            var marker_a54ea9b9fb31bf14dd26c849eab92f54 = L.marker(\n",
              "                [10.879357861526623, 79.0718236026463],\n",
              "                {}\n",
              "            ).addTo(map_3fe1bd15e426bc78a8d5da4801ad4dc4);\n",
              "        \n",
              "&lt;/script&gt;\n",
              "&lt;/html&gt;\" style=\"position:absolute;width:100%;height:100%;left:0;top:0;border:none !important;\" allowfullscreen webkitallowfullscreen mozallowfullscreen></iframe></div></div>"
            ]
          },
          "metadata": {},
          "execution_count": 20
        }
      ]
    }
  ]
}